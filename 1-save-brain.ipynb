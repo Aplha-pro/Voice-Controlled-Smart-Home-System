{
 "cells": [
  {
   "cell_type": "code",
   "execution_count": 31,
   "metadata": {},
   "outputs": [],
   "source": [
    "import aiml\n",
    "import os"
   ]
  },
  {
   "cell_type": "code",
   "execution_count": 32,
   "metadata": {},
   "outputs": [
    {
     "name": "stdout",
     "output_type": "stream",
     "text": [
      "Loading aimlfiles/general.aiml...done (0.00 seconds)\n"
     ]
    }
   ],
   "source": [
    "# Initialize AIML kernel\n",
    "kernel = aiml.Kernel()\n",
    "for filename in os.listdir(\"aimlfiles\"):\n",
    "    if filename.endswith(\".aiml\"):\n",
    "        kernel.learn(\"aimlfiles/\" + filename)"
   ]
  },
  {
   "cell_type": "code",
   "execution_count": 33,
   "metadata": {},
   "outputs": [],
   "source": [
    "# brain file\n",
    "brain_file = \"bot_brain.brn\""
   ]
  },
  {
   "cell_type": "code",
   "execution_count": 34,
   "metadata": {},
   "outputs": [
    {
     "name": "stdout",
     "output_type": "stream",
     "text": [
      "Learning AIML files\n",
      "Loading aimlfiles/general.aiml...done (0.00 seconds)\n"
     ]
    }
   ],
   "source": [
    "print(\"Learning AIML files\")\n",
    "for filename in os.listdir(\"aimlfiles\"):\n",
    "  if filename.endswith(\".aiml\"):\n",
    "    kernel.learn(os.path.join(\"aimlfiles\", filename))"
   ]
  },
  {
   "cell_type": "code",
   "execution_count": 35,
   "metadata": {},
   "outputs": [
    {
     "name": "stdout",
     "output_type": "stream",
     "text": [
      "Hello\n"
     ]
    }
   ],
   "source": [
    "# interaction\n",
    "print(\n",
    "  kernel.respond(\"HI\")\n",
    ")"
   ]
  },
  {
   "cell_type": "code",
   "execution_count": 36,
   "metadata": {},
   "outputs": [
    {
     "name": "stdout",
     "output_type": "stream",
     "text": [
      "Saving brain to bot_brain.brn\n",
      "Saving brain to bot_brain.brn...done (0.00 seconds)\n"
     ]
    }
   ],
   "source": [
    "print(\"Saving brain to\", brain_file)\n",
    "kernel.saveBrain(brain_file)"
   ]
  }
 ],
 "metadata": {
  "kernelspec": {
   "display_name": "Python 3",
   "language": "python",
   "name": "python3"
  },
  "language_info": {
   "codemirror_mode": {
    "name": "ipython",
    "version": 3
   },
   "file_extension": ".py",
   "mimetype": "text/x-python",
   "name": "python",
   "nbconvert_exporter": "python",
   "pygments_lexer": "ipython3",
   "version": "3.12.3"
  }
 },
 "nbformat": 4,
 "nbformat_minor": 2
}
